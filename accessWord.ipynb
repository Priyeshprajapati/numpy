{
 "cells": [
  {
   "cell_type": "code",
   "execution_count": 9,
   "id": "c07d0636",
   "metadata": {},
   "outputs": [
    {
     "name": "stdout",
     "output_type": "stream",
     "text": [
      "1. Name an example of a high-level language.\n",
      "          A. Hindi language\n",
      "          B. None \n",
      "          C. Java\n",
      "          D. Both A and C\n",
      "           E. French language\n",
      "2. What is Binary Language?\n",
      "          A. A language made of 1's and 0's\n",
      "            B. High level and low level language\n",
      "          C. A language made of 2's and 3's\n",
      "          D. Both of them\n",
      "          E. None of them\n",
      "3. What is the definition of a variable?\n",
      "          A. Variables store data for the program to work with. A variable could contain text  and numerical values.\n",
      "          B. Variables allow decisions to be made in a programs receive data and message enabling two or more computers to communicate     \n",
      "           D. All of these\n",
      "           E. None of these\n",
      "4. What's the difference between high level and low-level languages?\n",
      "          A. High level is written in capitals and low level is written in lower case.\n",
      "          B. High level is hard and low level is easy. \n",
      "          C. High level language is used by software and low level languages is used by    hardware.\n",
      "          D. Low level languages is made of 1's and 0's and high level language is BASIC, COBOL, FORTRAN, C++, etc.\n",
      "          E. None of the above.\n",
      "5. What is machine language?\n",
      "          A. A language used by cars.\t\n",
      "          B. Machine language is made of 1's and 0's.\n",
      "          C. Machine language is made of 7's and 8's.\t\n",
      "          D. A language that only understands plain engilsh.\n",
      "          E. None of the above.\n",
      " 6. Low-level languages can be divided into four categories.\n",
      "          A. True\n",
      "          B. False\n",
      " 7. Which two categories can low-level language be divided into?\n",
      "          A. Assembly language\n",
      "          B. Basic language\n",
      "          C. Machine language\n",
      "          D. Cobol language\n",
      "          E. None of these\n",
      " 8. Assembly language is machine dependent.\n",
      "          A. True\n",
      "          B. False\n",
      " 9. What are some examples of high-level languages?\n",
      "         A. BASIC\n",
      "         B. COBOL\n",
      "         C. FORTRAN\n",
      "         D. C++\n",
      "         E. All of these\n",
      " 10. A computer language is not a programming language.\n",
      "         A. True\n",
      "         B. False\n",
      "\n"
     ]
    }
   ],
   "source": [
    "#access word file\n",
    "import docx\n",
    "f = docx.Document(\"P://word//word1.docx\")\n",
    "c=f.paragraphs\n",
    "for i in c:\n",
    "    print(i.text)\n",
    "\n"
   ]
  }
 ],
 "metadata": {
  "kernelspec": {
   "display_name": "Python 3 (ipykernel)",
   "language": "python",
   "name": "python3"
  },
  "language_info": {
   "codemirror_mode": {
    "name": "ipython",
    "version": 3
   },
   "file_extension": ".py",
   "mimetype": "text/x-python",
   "name": "python",
   "nbconvert_exporter": "python",
   "pygments_lexer": "ipython3",
   "version": "3.9.6"
  }
 },
 "nbformat": 4,
 "nbformat_minor": 5
}
