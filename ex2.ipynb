{
 "cells": [
  {
   "cell_type": "code",
   "execution_count": 1,
   "id": "a62ee274",
   "metadata": {},
   "outputs": [],
   "source": [
    "import numpy as np"
   ]
  },
  {
   "cell_type": "code",
   "execution_count": 2,
   "id": "bb825375",
   "metadata": {},
   "outputs": [
    {
     "name": "stdout",
     "output_type": "stream",
     "text": [
      "enter the length of array:=1\n",
      "enter the elements:-1\n",
      "max  is:- 1 min is:- 1\n"
     ]
    }
   ],
   "source": [
    "#Find the minimum and maximum element in an array\n",
    "l=[]\n",
    "n=int(input(\"enter the length of array:=\"))\n",
    "for i in range(0,n):\n",
    "    num=int(input(\"enter the elements:-\"))\n",
    "    l.append(num)\n",
    "    arr=np.array(l)\n",
    "m=arr[0]\n",
    "mi=arr[0]\n",
    "for i in range(0,n):\n",
    "    \n",
    "    if arr[i]>m:\n",
    "        m=arr[i]\n",
    "for i in range(0,n):\n",
    "    \n",
    "    if arr[i]<mi:\n",
    "        mi=arr[i]\n",
    "print(\"max  is:-\",m,\"min is:-\",mi)\n"
   ]
  },
  {
   "cell_type": "code",
   "execution_count": 3,
   "id": "344ea1e5",
   "metadata": {},
   "outputs": [
    {
     "name": "stdout",
     "output_type": "stream",
     "text": [
      "6\n",
      "3\n",
      "2\n",
      "8\n",
      "59\n",
      "6\n",
      "3\n",
      "2\n",
      "1\n"
     ]
    },
    {
     "data": {
      "text/plain": [
       "numpy.ndarray"
      ]
     },
     "execution_count": 3,
     "metadata": {},
     "output_type": "execute_result"
    }
   ],
   "source": [
    "#Write a program to reverse the array\n",
    "\n",
    "arr=np.array([1,2,3,6,59,8,2,3,6])\n",
    "for i in range(len(arr)-1,-1,-1):\n",
    "    print(arr[i])\n",
    "type(arr)"
   ]
  },
  {
   "cell_type": "code",
   "execution_count": 4,
   "id": "96bbcfd3",
   "metadata": {},
   "outputs": [
    {
     "data": {
      "text/plain": [
       "array([  1,   3,   6,   9,  32,  85,  96, 321])"
      ]
     },
     "execution_count": 4,
     "metadata": {},
     "output_type": "execute_result"
    }
   ],
   "source": [
    "#Write a program to sort the given array\n",
    "arr=np.array([1,9,6,3,85,96,32,321])\n",
    "for i in range(0,len(arr)):\n",
    "    for j in range(0,len(arr)):\n",
    "        if arr[i]<arr[j]:\n",
    "            arr[i],arr[j]=arr[j],arr[i]\n",
    "arr\n",
    "            "
   ]
  },
  {
   "cell_type": "code",
   "execution_count": 21,
   "id": "6b3f5bf9",
   "metadata": {},
   "outputs": [
    {
     "name": "stdout",
     "output_type": "stream",
     "text": [
      "smallest number1\n",
      "1\n",
      "largest number1\n",
      "98\n"
     ]
    }
   ],
   "source": [
    "#Find the Kth largest and Kth smallest number in an array\n",
    "arr=np.array([1,9,6,3,7,5,3,4,12,36,98,74,52,20,30,98])\n",
    "for i in range(0,len(arr)):\n",
    "    for j in range(0,len(arr)):\n",
    "        if arr[i]<arr[j]:\n",
    "            arr[i],arr[j]=arr[j],arr[i]\n",
    "small=int(input(\"smallest number\"))\n",
    "print(arr[small-1])\n",
    "large=int(input(\"largest number\"))\n",
    "print(arr[-large])\n"
   ]
  },
  {
   "cell_type": "code",
   "execution_count": 6,
   "id": "9d6a48c4",
   "metadata": {},
   "outputs": [
    {
     "name": "stdout",
     "output_type": "stream",
     "text": [
      "enter number:-1\n",
      "number      0      repeated     0\n",
      "number      1      repeated     1\n",
      "number      2      repeated     0\n",
      "number      3      repeated     0\n",
      "number      4      repeated     0\n",
      "number      5      repeated     0\n",
      "number      6      repeated     0\n",
      "number      7      repeated     0\n",
      "number      8      repeated     0\n",
      "number      9      repeated     0\n"
     ]
    }
   ],
   "source": [
    "#Find the occurrence of an integer in the array\n",
    "l=[]\n",
    "num=int(input(\"enter number:-\"))\n",
    "while num>0:\n",
    "    a=num%10\n",
    "    l.append(a)\n",
    "    arr=np.array(l)\n",
    "    num=num//10\n",
    "for i in range(0,10):\n",
    "    count=0\n",
    "    for j in range(0,len(arr)):\n",
    "        if i==arr[j]:\n",
    "            count+=1\n",
    "    print(\"number     \",i,\"     repeated    \",count)"
   ]
  },
  {
   "cell_type": "code",
   "execution_count": 7,
   "id": "04100ed5",
   "metadata": {},
   "outputs": [
    {
     "data": {
      "text/plain": [
       "array([0, 0, 0, 0, 0, 0, 0, 0, 1, 1, 1, 1, 1, 2, 2, 2, 2, 2, 2, 2])"
      ]
     },
     "execution_count": 7,
     "metadata": {},
     "output_type": "execute_result"
    }
   ],
   "source": [
    "#Sort the array of 0s, 1s, and 2s\n",
    "arr=np.array([1,0,2,0,1,0,2,0,1,2,2,2,0,1,0,2,0,1,0,2])\n",
    "low=0\n",
    "mid=0\n",
    "high=len(arr)-1\n",
    "while mid<=high:\n",
    "    if arr[mid]==0:\n",
    "        arr[low],arr[mid]=arr[mid],arr[low]\n",
    "        mid+=1\n",
    "        low+=1\n",
    "    elif arr[mid]==1:\n",
    "        mid+=1\n",
    "    else:\n",
    "        arr[high],arr[mid]=arr[mid],arr[high]\n",
    "        high-=1\n",
    "arr"
   ]
  },
  {
   "cell_type": "code",
   "execution_count": 8,
   "id": "0a4d99e7",
   "metadata": {},
   "outputs": [
    {
     "name": "stdout",
     "output_type": "stream",
     "text": [
      "range of array is:- 10\n",
      "coefficient of array is:- 0.5\n"
     ]
    }
   ],
   "source": [
    "#Range and Coefficient of array\n",
    "arr=np.array([5,10,9,6,8,12,15])\n",
    "mx=arr[0]\n",
    "mn=arr[0]\n",
    "for i in range(0,len(arr)):\n",
    "    if arr[i]>mx:\n",
    "        mx=arr[i]\n",
    "    if arr[i]<mn:\n",
    "        mn=arr[i]\n",
    "r=mx-mn\n",
    "print(\"range of array is:-\",r)\n",
    "r1=mx+mn\n",
    "c=r/r1\n",
    "print(\"coefficient of array is:-\",c)"
   ]
  },
  {
   "cell_type": "code",
   "execution_count": 9,
   "id": "16dc8024",
   "metadata": {},
   "outputs": [
    {
     "data": {
      "text/plain": [
       "array([-8, -1, -7, -6, -4,  3,  9,  6, 10])"
      ]
     },
     "execution_count": 9,
     "metadata": {},
     "output_type": "execute_result"
    }
   ],
   "source": [
    "#Move all the negative elements to one side of the array\n",
    "arr=np.array([9,6,3,-8,-1,-7,-6,-4,10])\n",
    "j=0\n",
    "for i in range(0,len(arr)):\n",
    "    if arr[i]<0:\n",
    "            arr[i],arr[j]=arr[j],arr[i]\n",
    "            j+=1\n",
    "arr"
   ]
  },
  {
   "cell_type": "code",
   "execution_count": 10,
   "id": "a07d7b17",
   "metadata": {},
   "outputs": [
    {
     "name": "stdout",
     "output_type": "stream",
     "text": [
      "union is:- [{1, 3, 4, 6, 7, 8, 9, 10, 15}]\n",
      "intersection is:- [4 6 9]\n"
     ]
    }
   ],
   "source": [
    "#Find the Union and Intersection of the two sorted arrays\n",
    "arr1=np.array([1,3,4,6,8,9])\n",
    "arr2=np.array([4,6,7,9,10,15])\n",
    "size=len(arr1)+len(arr2)\n",
    "arr3=np.array([int]*size)\n",
    "s=[]\n",
    "for i in range(0,size):\n",
    "    if i<len(arr1):\n",
    "        arr3[i]=arr1[i]\n",
    "    else:\n",
    "        arr3[i]=arr2[i-len(arr1)]\n",
    "a=set(arr3)\n",
    "m=np.array([a])\n",
    "print(\"union is:-\",m)\n",
    "for i in range(0,len(arr1)):\n",
    "    for j in range(0,len(arr2)):\n",
    "        if arr1[i]==arr2[j]:\n",
    "            s.append(arr1[i])\n",
    "print(\"intersection is:-\",np.array(s))\n",
    "    \n"
   ]
  },
  {
   "cell_type": "code",
   "execution_count": 11,
   "id": "2bfef299",
   "metadata": {},
   "outputs": [
    {
     "data": {
      "text/plain": [
       "array([ 5,  1,  5,  9,  3,  5,  9,  6,  2,  6,  8,  4, 14])"
      ]
     },
     "execution_count": 11,
     "metadata": {},
     "output_type": "execute_result"
    }
   ],
   "source": [
    "#Write a program to cyclically rotate an array by one\n",
    "arr=np.array([1,5,9,3,5,9,6,2,6,8,4,14,5])\n",
    "j=0\n",
    "for i in range(0,len(arr)):\n",
    "      arr[i],arr[j]=arr[j],arr[i]\n",
    "arr\n"
   ]
  },
  {
   "cell_type": "code",
   "execution_count": 12,
   "id": "ed683df0",
   "metadata": {},
   "outputs": [
    {
     "name": "stdout",
     "output_type": "stream",
     "text": [
      "2\n",
      "4\n",
      "8\n",
      "10\n",
      "11\n",
      "12\n",
      "13\n",
      "14\n"
     ]
    }
   ],
   "source": [
    "#Find the missing integer\n",
    "arr=np.array([1,9,6,3,7,15,5])\n",
    "mx=arr[0]\n",
    "mn=arr[0]\n",
    "for i in range(0,len(arr)):\n",
    "    if arr[i]>mx:\n",
    "        mx=arr[i]\n",
    "    if arr[i]<mn:\n",
    "        mn=arr[i]\n",
    "for i in range(mn,mx):\n",
    "    if i not in arr:\n",
    "        print(i)\n",
    "        \n"
   ]
  },
  {
   "cell_type": "code",
   "execution_count": 13,
   "id": "073eee0d",
   "metadata": {},
   "outputs": [
    {
     "name": "stdout",
     "output_type": "stream",
     "text": [
      "3\n"
     ]
    }
   ],
   "source": [
    "#Count Pairs with given sum\n",
    "arr=np.array([1, 5, 7, -1, 5])\n",
    "sum=6\n",
    "count=0\n",
    "for i in range(0,len(arr)):\n",
    "    for j in range(i+1,len(arr)):\n",
    "        if arr[i]+arr[j]==sum:\n",
    "            count+=1\n",
    "print(count)"
   ]
  },
  {
   "cell_type": "code",
   "execution_count": 14,
   "id": "5ab5cbca",
   "metadata": {},
   "outputs": [
    {
     "name": "stdout",
     "output_type": "stream",
     "text": [
      "1\n",
      "2\n",
      "5\n",
      "6\n",
      "-1\n",
      "-9876\n"
     ]
    }
   ],
   "source": [
    "#Find duplicates in an array\n",
    "arr=np.array([1,1,2,2,5,9,6,6,3,4,7,8,5,-1,-1,-9876,-9876])\n",
    "for i in range(0,len(arr)):\n",
    "    for j in range(i+1,len(arr)):\n",
    "        if arr[i]==arr[j]:\n",
    "            print(arr[i])"
   ]
  },
  {
   "cell_type": "code",
   "execution_count": null,
   "id": "33294bbc",
   "metadata": {},
   "outputs": [],
   "source": []
  }
 ],
 "metadata": {
  "kernelspec": {
   "display_name": "Python 3 (ipykernel)",
   "language": "python",
   "name": "python3"
  },
  "language_info": {
   "codemirror_mode": {
    "name": "ipython",
    "version": 3
   },
   "file_extension": ".py",
   "mimetype": "text/x-python",
   "name": "python",
   "nbconvert_exporter": "python",
   "pygments_lexer": "ipython3",
   "version": "3.9.6"
  }
 },
 "nbformat": 4,
 "nbformat_minor": 5
}
