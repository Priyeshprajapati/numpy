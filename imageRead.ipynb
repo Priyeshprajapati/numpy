{
 "cells": [
  {
   "cell_type": "code",
   "execution_count": 1,
   "id": "b9e84b00",
   "metadata": {},
   "outputs": [
    {
     "data": {
      "text/plain": [
       "-1"
      ]
     },
     "execution_count": 1,
     "metadata": {},
     "output_type": "execute_result"
    }
   ],
   "source": [
    "#read image\n",
    "import cv2\n",
    "img=cv2.imread(\"C:\\\\Users\\DELL\\\\Pictures\\\\cdgi\\\\FB_IMG_1475301504207.jpg\")\n",
    "cv2.imshow(\"output\",img)\n",
    "cv2.waitKey(0)"
   ]
  },
  {
   "cell_type": "code",
   "execution_count": 1,
   "id": "78f2d347",
   "metadata": {},
   "outputs": [
    {
     "data": {
      "text/plain": [
       "-1"
      ]
     },
     "execution_count": 1,
     "metadata": {},
     "output_type": "execute_result"
    }
   ],
   "source": [
    "#read and write image\n",
    "import cv2\n",
    "img=cv2.imread(\"C:\\\\Users\\DELL\\\\Pictures\\\\cdgi\\\\FB_IMG_1475301504207.jpg\")\n",
    "cv2.imshow(\"output\",img)\n",
    "cv2.imwrite(\"open.jpg\",img)\n",
    "cv2.imwrite(\"open.png\",img)\n",
    "cv2.waitKey(0)"
   ]
  },
  {
   "cell_type": "code",
   "execution_count": 3,
   "id": "1dfb686c",
   "metadata": {},
   "outputs": [
    {
     "name": "stdout",
     "output_type": "stream",
     "text": [
      "(678, 1024, 3)\n",
      "height pixel value:- 678\n",
      "width pixel value:- 1024\n"
     ]
    },
    {
     "data": {
      "text/plain": [
       "-1"
      ]
     },
     "execution_count": 3,
     "metadata": {},
     "output_type": "execute_result"
    }
   ],
   "source": [
    "#show height and width pixel value\n",
    "import cv2\n",
    "img=cv2.imread(\"C:\\\\Users\\DELL\\\\Pictures\\\\cdgi\\\\FB_IMG_1475301504207.jpg\")\n",
    "cv2.imshow(\"output\",img)\n",
    "print(img.shape)\n",
    "print(\"height pixel value:-\",img.shape[0])\n",
    "print(\"width pixel value:-\",img.shape[1])\n",
    "cv2.waitKey(0)"
   ]
  },
  {
   "cell_type": "code",
   "execution_count": null,
   "id": "63e25278-b6a7-4c04-934a-b2ee4df0bbb1",
   "metadata": {},
   "outputs": [],
   "source": []
  },
  {
   "cell_type": "code",
   "execution_count": 4,
   "id": "8c40a886",
   "metadata": {},
   "outputs": [
    {
     "data": {
      "text/plain": [
       "-1"
      ]
     },
     "execution_count": 4,
     "metadata": {},
     "output_type": "execute_result"
    }
   ],
   "source": [
    "#first method\n",
    "#convert colorfull image to grey image\n",
    "import cv2\n",
    "img=cv2.imread(\"C:\\\\Users\\DELL\\\\Pictures\\\\cdgi\\\\FB_IMG_1475301504207.jpg\")\n",
    "cv2.imshow(\"show\",img)\n",
    "cv2.waitKey(0)\n",
    "grey_col=cv2.cvtColor(img,cv2.COLOR_BGR2GRAY)\n",
    "cv2.imshow(\"showing\",grey_col)\n",
    "cv2.waitKey(0)"
   ]
  },
  {
   "cell_type": "code",
   "execution_count": 5,
   "id": "fe2eaba8",
   "metadata": {},
   "outputs": [
    {
     "data": {
      "text/plain": [
       "-1"
      ]
     },
     "execution_count": 5,
     "metadata": {},
     "output_type": "execute_result"
    }
   ],
   "source": [
    "#second method\n",
    "#convert colorfull image to grey image\n",
    "import cv2\n",
    "img=cv2.imread(\"C:\\\\Users\\\\DELL\\\\Pictures\\\\cdgi\\\\FB_IMG_1475301504207.jpg\",0)\n",
    "cv2.imshow(\"show\",img)\n",
    "cv2.waitKey(0)"
   ]
  },
  {
   "cell_type": "code",
   "execution_count": 6,
   "id": "f15a2e5b",
   "metadata": {},
   "outputs": [
    {
     "name": "stdout",
     "output_type": "stream",
     "text": [
      "127.0\n"
     ]
    }
   ],
   "source": [
    "#pure binary image(black and white)\n",
    "import cv2\n",
    "img=cv2.imread(\"C:\\\\Users\\\\DELL\\\\Pictures\\\\cdgi\\\\FB_IMG_1475301504207.jpg\",0)\n",
    "cv2.imshow(\"s\",img)\n",
    "cv2.waitKey(0)\n",
    "ret,bw=cv2.threshold(img,127,255,cv2.THRESH_BINARY)\n",
    "cv2.imshow(\"binary\",bw)\n",
    "cv2.waitKey(0)\n",
    "print(ret)"
   ]
  },
  {
   "cell_type": "code",
   "execution_count": 7,
   "id": "5d590e85",
   "metadata": {},
   "outputs": [
    {
     "data": {
      "text/plain": [
       "-1"
      ]
     },
     "execution_count": 7,
     "metadata": {},
     "output_type": "execute_result"
    }
   ],
   "source": [
    "#hue:0-180,saturation:0-255,value:0-255\n",
    "import cv2\n",
    "img=cv2.imread(\"C:\\\\Users\\DELL\\\\Pictures\\\\cdgi\\\\FB_IMG_1475301504207.jpg\")\n",
    "img_hsv=cv2.cvtColor(img,cv2.COLOR_BGR2HSV)\n",
    "cv2.imshow(\"hsv\",img_hsv)\n",
    "cv2.imshow(\"hue:-\",img_hsv[:,:,0])\n",
    "cv2.imshow(\"saturation:-\",img_hsv[:,:,1])\n",
    "cv2.imshow(\"value:-\",img_hsv[:,:,2])\n",
    "cv2.waitKey(0)"
   ]
  },
  {
   "cell_type": "code",
   "execution_count": 8,
   "id": "5956af7d",
   "metadata": {},
   "outputs": [
    {
     "data": {
      "text/plain": [
       "-1"
      ]
     },
     "execution_count": 8,
     "metadata": {},
     "output_type": "execute_result"
    }
   ],
   "source": [
    "#extract RGB color\n",
    "import cv2\n",
    "import numpy as np\n",
    "img=cv2.imread(\"C:\\\\Users\\DELL\\\\Pictures\\\\cdgi\\\\FB_IMG_1475301504207.jpg\")\n",
    "cv2.imshow(\"output\",img)\n",
    "cv2.waitKey(0)\n",
    "B,G,R=cv2.split(img)\n",
    "zeros=np.zeros(img.shape[:2],dtype=\"uint8\")\n",
    "cv2.imshow(\"Red\",cv2.merge([zeros,zeros,R]))\n",
    "cv2.imshow(\"Green\",cv2.merge([zeros,G,zeros]))\n",
    "cv2.imshow(\"Blue\",cv2.merge([B,zeros,zeros]))\n",
    "cv2.waitKey(0)"
   ]
  },
  {
   "cell_type": "code",
   "execution_count": 9,
   "id": "066c486c",
   "metadata": {},
   "outputs": [
    {
     "name": "stdout",
     "output_type": "stream",
     "text": [
      "678\n",
      "1024\n",
      "169.5\n",
      "256.0\n",
      "[[  1.    0.  256. ]\n",
      " [  0.    1.  169.5]]\n"
     ]
    },
    {
     "data": {
      "text/plain": [
       "-1"
      ]
     },
     "execution_count": 9,
     "metadata": {},
     "output_type": "execute_result"
    }
   ],
   "source": [
    "#image translation\n",
    "import cv2\n",
    "import numpy as np\n",
    "img=cv2.imread(\"C:\\\\Users\\\\DELL\\\\Pictures\\\\cdgi\\\\FB_IMG_1475301504207.jpg\")\n",
    "height,width=img.shape[:2]\n",
    "print(height)\n",
    "print(width)\n",
    "quarter_height,quarter_width=height/4,width/4\n",
    "print(quarter_height)\n",
    "print(quarter_width)\n",
    "T=np.float64([[1,0,quarter_width],\n",
    "           [0,1,quarter_height]])\n",
    "print(T)\n",
    "img_tra=cv2.warpAffine(img,T,(width,height))\n",
    "cv2.imshow(\"original image\",img)\n",
    "cv2.imshow(\"translation\",img_tra)\n",
    "cv2.waitKey(0)\n"
   ]
  },
  {
   "cell_type": "code",
   "execution_count": 9,
   "id": "504fa99c",
   "metadata": {},
   "outputs": [
    {
     "name": "stdout",
     "output_type": "stream",
     "text": [
      "not same\n"
     ]
    }
   ],
   "source": [
    "#1st method:-compare image\n",
    "import PIL\n",
    "import numpy as np\n",
    "img=Image.open('C:\\\\Users\\DELL\\\\Pictures\\\\cdgi\\\\FB_IMG_1475301504207.jpg')\n",
    "numpydata =np.array(img)\n",
    "img1=Image.open('C:\\\\Users\\DELL\\\\Pictures\\\\cdgi\\\\FB_IMG_1475301507997.jpg')\n",
    "numpydata1=np.array(img1)\n",
    "if np.all(numpydata==numpydata1):\n",
    "    print(\"same image\")\n",
    "else:\n",
    "    print(\"not same\")\n"
   ]
  },
  {
   "cell_type": "code",
   "execution_count": 1,
   "id": "65659b5b",
   "metadata": {},
   "outputs": [
    {
     "name": "stdout",
     "output_type": "stream",
     "text": [
      "same image\n"
     ]
    },
    {
     "data": {
      "text/plain": [
       "-1"
      ]
     },
     "execution_count": 1,
     "metadata": {},
     "output_type": "execute_result"
    }
   ],
   "source": [
    "#2nd method:-campare image\n",
    "import cv2\n",
    "import numpy as np\n",
    "img=cv2.imread('C:\\\\Users\\DELL\\\\Pictures\\\\cdgi\\\\FB_IMG_1475301504207.jpg')\n",
    "numpydata =np.array(img)\n",
    "img1=cv2.imread('C:\\\\Users\\\\DELL\\\\Pictures\\\\cdgi\\\\FB_IMG_1475301504207.jpg') #7997\n",
    "numpydata1=np.array(img1)\n",
    "if np.all(numpydata==numpydata1):\n",
    "    print(\"same image\")\n",
    "else:\n",
    "    print(\"not same\")\n",
    "cv2.imshow(\"open\",img)\n",
    "cv2.waitKey(0)\n",
    "cv2.imshow(\"open1\",img1)\n",
    "cv2.waitKey(0)"
   ]
  },
  {
   "cell_type": "code",
   "execution_count": 18,
   "id": "79869198",
   "metadata": {},
   "outputs": [
    {
     "data": {
      "text/plain": [
       "-1"
      ]
     },
     "execution_count": 18,
     "metadata": {},
     "output_type": "execute_result"
    }
   ],
   "source": [
    "#image rotation\n",
    "import cv2\n",
    "import numpy as np\n",
    "img=cv2.imread('C:\\\\Users\\\\DELL\\\\Pictures\\\\cdgi\\\\FB_IMG_1475301507997.jpg')\n",
    "height,width=img.shape[:2]\n",
    "rotation_matrix=cv2.getRotationMatrix2D((width/2,height/2),70,.5)#70 rotation angle,0.5 scaling factor\n",
    "rotated_image=cv2.warpAffine(img,rotation_matrix,(width,height))\n",
    "cv2.imshow(\"rotated image\",rotated_image)\n",
    "cv2.imshow(\"original\",img)\n",
    "cv2.waitKey(0)"
   ]
  },
  {
   "cell_type": "code",
   "execution_count": 20,
   "id": "45e96f2a",
   "metadata": {},
   "outputs": [
    {
     "data": {
      "text/plain": [
       "-1"
      ]
     },
     "execution_count": 20,
     "metadata": {},
     "output_type": "execute_result"
    }
   ],
   "source": [
    "#image transpose\n",
    "import cv2\n",
    "import numpy as np\n",
    "img=cv2.imread('C:\\\\Users\\\\DELL\\\\Pictures\\\\cdgi\\\\FB_IMG_1475301507997.jpg')\n",
    "rotated_img=cv2.transpose(img)\n",
    "cv2.imshow(\"rotated image\",rotated_img)\n",
    "cv2.imshow(\"original\",img)\n",
    "cv2.waitKey(0)"
   ]
  },
  {
   "cell_type": "code",
   "execution_count": 22,
   "id": "9fd34c1c",
   "metadata": {},
   "outputs": [
    {
     "data": {
      "text/plain": [
       "-1"
      ]
     },
     "execution_count": 22,
     "metadata": {},
     "output_type": "execute_result"
    }
   ],
   "source": [
    "#1st method:-image resizing or scaling\n",
    "import cv2\n",
    "import numpy as np\n",
    "img=cv2.imread('C:\\\\Users\\\\DELL\\\\Pictures\\\\cdgi\\\\FB_IMG_1475301507997.jpg')\n",
    "cv2.imshow(\"original\",img)\n",
    "cv2.waitKey(0)\n",
    "img_scaled=cv2.resize(img,None,fx=.75,fy=.75)\n",
    "cv2.imshow(\"scaling line interpolation\",img_scaled)\n",
    "cv2.waitKey(0)"
   ]
  },
  {
   "cell_type": "code",
   "execution_count": 1,
   "id": "3b9080b3",
   "metadata": {},
   "outputs": [
    {
     "data": {
      "text/plain": [
       "-1"
      ]
     },
     "execution_count": 1,
     "metadata": {},
     "output_type": "execute_result"
    }
   ],
   "source": [
    "#2nd method:-image resizing or scaling\n",
    "import cv2\n",
    "import numpy as np\n",
    "img=cv2.imread('C:\\\\Users\\\\DELL\\\\Pictures\\\\cdgi\\\\FB_IMG_1475301507997.jpg')\n",
    "cv2.imshow(\"original\",img)\n",
    "cv2.waitKey(0)\n",
    "img_scaled=cv2.resize(img,None,fx=2,fy=2,interpolation=cv2.INTER_CUBIC)\n",
    "cv2.imshow(\"scaling cubic interpolation\",img_scaled)\n",
    "cv2.waitKey(0)"
   ]
  },
  {
   "cell_type": "code",
   "execution_count": 10,
   "id": "3a7713e3",
   "metadata": {},
   "outputs": [
    {
     "data": {
      "text/plain": [
       "-1"
      ]
     },
     "execution_count": 10,
     "metadata": {},
     "output_type": "execute_result"
    }
   ],
   "source": [
    "#3rd method:-image resizing or scaling\n",
    "import cv2\n",
    "import numpy as np\n",
    "img=cv2.imread('C:\\\\Users\\\\DELL\\\\Pictures\\\\cdgi\\\\FB_IMG_1475301507997.jpg')\n",
    "cv2.imshow(\"original\",img)\n",
    "cv2.waitKey(0)\n",
    "img_scaled=cv2.resize(img,(900,1100),interpolation=cv2.INTER_AREA)\n",
    "cv2.imshow('scaling skewed size',img_scaled)\n",
    "cv2.waitKey(0)\n"
   ]
  },
  {
   "cell_type": "code",
   "execution_count": 3,
   "id": "7187892d",
   "metadata": {},
   "outputs": [
    {
     "data": {
      "text/plain": [
       "-1"
      ]
     },
     "execution_count": 3,
     "metadata": {},
     "output_type": "execute_result"
    }
   ],
   "source": [
    "#image resizing using image pyramid\n",
    "import cv2\n",
    "img=cv2.imread('C:\\\\Users\\\\DELL\\\\Pictures\\\\cdgi\\\\FB_IMG_1475301507997.jpg')\n",
    "smaller=cv2.pyrDown(img)\n",
    "larger=cv2.pyrUp(img)\n",
    "cv2.imshow(\"original\",img)\n",
    "cv2.imshow(\"smaller\",smaller)\n",
    "cv2.imshow(\"larger\",larger)\n",
    "cv2.waitKey(0)"
   ]
  },
  {
   "cell_type": "code",
   "execution_count": 7,
   "id": "b4d0c049",
   "metadata": {},
   "outputs": [
    {
     "data": {
      "text/plain": [
       "-1"
      ]
     },
     "execution_count": 7,
     "metadata": {},
     "output_type": "execute_result"
    }
   ],
   "source": [
    "#image cropping\n",
    "import cv2\n",
    "import numpy as np\n",
    "img=cv2.imread('C:\\\\Users\\\\DELL\\\\Pictures\\\\cdgi\\\\FB_IMG_1475301507997.jpg')\n",
    "height,width=img.shape[:2]\n",
    "start_row,start_column=int(height*.25),int(width*.25)\n",
    "end_row,end_column=int(height*.75),int(width*.75)\n",
    "cropped=img[start_row:end_row,start_column:end_column]\n",
    "cv2.imshow(\"original\",img)\n",
    "cv2.imshow(\"cropped\",cropped)\n",
    "cv2.waitKey(0)"
   ]
  },
  {
   "cell_type": "code",
   "execution_count": 18,
   "id": "71bcc7eb",
   "metadata": {},
   "outputs": [
    {
     "data": {
      "text/plain": [
       "-1"
      ]
     },
     "execution_count": 18,
     "metadata": {},
     "output_type": "execute_result"
    }
   ],
   "source": [
    "#1st method:-image arithmetic\n",
    "import cv2\n",
    "import numpy as np\n",
    "img=cv2.imread('C:\\\\Users\\\\DELL\\\\Pictures\\\\cdgi\\\\FB_IMG_1475301507997.jpg')\n",
    "cv2.imshow(\"original\",img)\n",
    "cv2.waitKey(0)\n",
    "H=np.ones(img.shape,dtype=\"uint8\")*150 #unsigned integer of 8 byte\n",
    "added=cv2.add(img,H)\n",
    "cv2.imshow(\"added\",added)\n",
    "sub=cv2.subtract(img,H)\n",
    "cv2.imshow(\"subtracted\",sub)\n",
    "mul=cv2.multiply(img,H)\n",
    "cv2.imshow(\"multipled\",mul)\n",
    "cv2.waitKey(0)"
   ]
  },
  {
   "cell_type": "code",
   "execution_count": 20,
   "id": "feaedf32",
   "metadata": {},
   "outputs": [
    {
     "data": {
      "text/plain": [
       "-1"
      ]
     },
     "execution_count": 20,
     "metadata": {},
     "output_type": "execute_result"
    }
   ],
   "source": [
    "#2nd method:-image arithmetic\n",
    "import cv2\n",
    "import numpy as np\n",
    "img=cv2.imread('C:\\\\Users\\\\DELL\\\\Pictures\\\\cdgi\\\\FB_IMG_1475301507997.jpg')\n",
    "cv2.imshow(\"original\",img)\n",
    "cv2.waitKey(0)\n",
    "H=np.ones(img.shape,dtype=\"uint8\")*150 #unsigned integer of 8 byte\n",
    "H1=np.zeros(img.shape,dtype=\"uint8\")+150\n",
    "added=cv2.add(img,H1)\n",
    "cv2.imshow(\"added\",added)\n",
    "sub=cv2.subtract(img,H1)\n",
    "cv2.imshow(\"subtracted\",sub)\n",
    "mul=cv2.multiply(img,H1)\n",
    "cv2.imshow(\"multipled\",mul)\n",
    "cv2.waitKey(0)"
   ]
  },
  {
   "cell_type": "code",
   "execution_count": 26,
   "id": "1224a856",
   "metadata": {},
   "outputs": [
    {
     "data": {
      "text/plain": [
       "-1"
      ]
     },
     "execution_count": 26,
     "metadata": {},
     "output_type": "execute_result"
    }
   ],
   "source": [
    "#image bitwise operations\n",
    "import cv2\n",
    "import numpy as np\n",
    "img=cv2.imread('C:\\\\Users\\\\DELL\\\\Pictures\\\\cdgi\\\\FB_IMG_1475301507997.jpg')\n",
    "square=np.zeros((300,300),np.uint8)\n",
    "#dimensions start,end point(50,50),color(250,250)and line width(-1 for completely fill)\n",
    "cv2.rectangle(square,(50,50),(250,250),255,-1)\n",
    "cv2.imshow(\"squre\",square)\n",
    "cv2.waitKey(0)\n",
    "ellipse=np.zeros((300,300),np.uint8)\n",
    "cv2.ellipse(ellipse,(150,150),(150,150),30,0,180,255,-1)\n",
    "cv2.imshow(\"ellipse\",ellipse)\n",
    "cv2.waitKey(0)\n",
    "And=cv2.bitwise_and(square,ellipse)\n",
    "cv2.imshow(\"And\",And)\n",
    "cv2.waitKey(0)\n",
    "Or=cv2.bitwise_or(square,ellipse)\n",
    "cv2.imshow(\"Or\",Or)\n",
    "cv2.waitKey(0)"
   ]
  },
  {
   "cell_type": "code",
   "execution_count": 35,
   "id": "003d6f2c",
   "metadata": {},
   "outputs": [
    {
     "data": {
      "text/plain": [
       "-1"
      ]
     },
     "execution_count": 35,
     "metadata": {},
     "output_type": "execute_result"
    }
   ],
   "source": [
    "#image blurring\n",
    "import cv2\n",
    "import numpy as np\n",
    "img=cv2.imread('C:\\\\Users\\\\DELL\\\\Pictures\\\\cdgi\\\\FB_IMG_1475301507997.jpg')\n",
    "cv2.imshow('original',img)\n",
    "cv2.waitKey(0)\n",
    "kernel_7x7=np.ones((7,7),np.float32)/49 #7*7=49\n",
    "blurred=cv2.filter2D(img,-1,kernel_7x7)\n",
    "cv2.imshow(\"3x3 kernel blurring\",blurred)\n",
    "cv2.waitKey(0)"
   ]
  },
  {
   "cell_type": "code",
   "execution_count": 1,
   "id": "8b9e076f",
   "metadata": {},
   "outputs": [
    {
     "data": {
      "text/plain": [
       "-1"
      ]
     },
     "execution_count": 1,
     "metadata": {},
     "output_type": "execute_result"
    }
   ],
   "source": [
    "#image smoothing\n",
    "import cv2\n",
    "import numpy as np\n",
    "img=cv2.imread('C:\\\\Users\\\\DELL\\\\Pictures\\\\cdgi\\\\FB_IMG_1475301507997.jpg')\n",
    "cv2.imshow('original',img)\n",
    "cv2.waitKey(0)\n",
    "blur=cv2.blur(img,(3,3))\n",
    "cv2.imshow(\"blur image\",blur)\n",
    "cv2.waitKey(0)"
   ]
  },
  {
   "cell_type": "code",
   "execution_count": 14,
   "id": "752a8ac7",
   "metadata": {},
   "outputs": [
    {
     "data": {
      "text/plain": [
       "-1"
      ]
     },
     "execution_count": 14,
     "metadata": {},
     "output_type": "execute_result"
    }
   ],
   "source": [
    "#image edge detection\n",
    "import cv2\n",
    "import numpy as np\n",
    "img=cv2.imread('C:\\\\Users\\\\DELL\\\\Pictures\\\\cdgi\\\\FB_IMG_1475301507997.jpg',0)\n",
    "height,width=img.shape\n",
    "sobel_x=cv2.Sobel(img,cv2.CV_64F,1,0,ksize=5)\n",
    "sobel_y=cv2.Sobel(img,cv2.CV_64F,0,1,ksize=5)\n",
    "cv2.imshow('original',img)\n",
    "cv2.waitKey(0)\n",
    "cv2.imshow(\"sobel x Image\",sobel_x)\n",
    "cv2.waitKey(0)\n",
    "cv2.imshow(\"sobel y Image\",sobel_y)\n",
    "cv2.waitKey(0)\n",
    "sobel_or=cv2.bitwise_or(sobel_x,sobel_y)\n",
    "cv2.imshow(\"sobel or image\",sobel_or)\n",
    "cv2.waitKey(0)\n",
    "laplacian=cv2.Laplacian(img,cv2.CV_64F)\n",
    "cv2.imshow(\"laplacian image\",laplacian)\n",
    "cv2.waitKey(0)\n",
    "canny=cv2.Canny(img,20,170)\n",
    "cv2.imshow(\"canny edge\",canny)\n",
    "cv2.waitKey(0)"
   ]
  },
  {
   "cell_type": "code",
   "execution_count": 20,
   "id": "298932fe",
   "metadata": {},
   "outputs": [],
   "source": [
    "#image wabcam\n",
    "import cv2\n",
    "cap=cv2.VideoCapture(0)\n",
    "while True:\n",
    "    ret,frame=cap.read()\n",
    "    cv2.imshow(\"our live sketch\",frame)\n",
    "    if cv2.waitKey(1)==13:\n",
    "        break\n",
    "cap.release()\n",
    "cv2.destroyAllWindows()"
   ]
  },
  {
   "cell_type": "code",
   "execution_count": null,
   "id": "e3a815d6",
   "metadata": {},
   "outputs": [],
   "source": [
    "#how to capture image using webcam\n",
    "import cv2\n",
    "import matplotlib.pyplot as plt\n",
    "cap=cv2.VideoCapture(0)\n",
    "if cap.isOpened():\n",
    "    ret,frame=cap.read()\n",
    "    print(ret)\n",
    "    print(frame)\n",
    "else:\n",
    "    ret=False\n",
    "img1=cv2.cvtColor(frame,cv2.COLOR_BGR2RGB)\n",
    "plt.imshow(img1)\n",
    "plt.title(\"camera image-1\")\n",
    "plt.xticks([])\n",
    "plt.yticks([])\n",
    "plt.show()\n",
    "cap.release()"
   ]
  },
  {
   "cell_type": "code",
   "execution_count": 2,
   "id": "09e16fd5",
   "metadata": {},
   "outputs": [],
   "source": [
    "#edge detection using webcam\n",
    "import cv2\n",
    "def sketch(image):\n",
    "    img_gray=cv2.cvtColor(image,cv2.COLOR_BGR2GRAY)\n",
    "    img_gray_blur=cv2.GaussianBlur(img_gray,(5,5),0)\n",
    "    canny_edge=cv2.Canny(img_gray_blur,10,70)\n",
    "    ret,mask=cv2.threshold(canny_edge,70,255,cv2.THRESH_BINARY)\n",
    "    return mask\n",
    "cap=cv2.VideoCapture(0)\n",
    "\n",
    "while True:\n",
    "    ret,frame=cap.read()\n",
    "    cv2.imshow(\"our live sketch\",sketch(frame))\n",
    "    if cv2.waitKey(1)==13:\n",
    "        break\n",
    "cap.release()\n",
    "cv2.destroyAllWindows()"
   ]
  },
  {
   "cell_type": "code",
   "execution_count": null,
   "id": "cc831f8e",
   "metadata": {},
   "outputs": [],
   "source": []
  }
 ],
 "metadata": {
  "kernelspec": {
   "display_name": "Python 3 (ipykernel)",
   "language": "python",
   "name": "python3"
  },
  "language_info": {
   "codemirror_mode": {
    "name": "ipython",
    "version": 3
   },
   "file_extension": ".py",
   "mimetype": "text/x-python",
   "name": "python",
   "nbconvert_exporter": "python",
   "pygments_lexer": "ipython3",
   "version": "3.9.6"
  }
 },
 "nbformat": 4,
 "nbformat_minor": 5
}
