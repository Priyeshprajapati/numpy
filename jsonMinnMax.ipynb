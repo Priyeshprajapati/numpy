{
 "cells": [
  {
   "cell_type": "code",
   "execution_count": 49,
   "id": "a3dc39fe",
   "metadata": {},
   "outputs": [
    {
     "name": "stdout",
     "output_type": "stream",
     "text": [
      "max id: 14\n",
      "min id: 1\n",
      "average id: 8.25\n",
      "repeated mobile no. 0\n",
      "1 row null value: 0\n",
      "2 row null value: 0\n",
      "3 row null value: 2\n",
      "4 row null value: 0\n",
      "repeated mobile mobile no: 0\n",
      "max null record rows 3\n"
     ]
    }
   ],
   "source": [
    "# USE the SAME API to find max id, min id, avg id, repeated mobile number, null record rows, max null record rows\n",
    "import json\n",
    "import urllib.request\n",
    "import numpy as np\n",
    "data =  urllib.request.urlopen(\"https://shivaconceptsolution.com/webservices/showdriver.php\");\n",
    "s= json.loads(data.read())\n",
    "l=[]\n",
    "l1=[]\n",
    "l2=[]\n",
    "l3=[]\n",
    "l4=[]\n",
    "for i in s[\"result\"]:\n",
    "    for j in i:\n",
    "      \n",
    "      l4.append(i[j])\n",
    "      l.append(int(i.get(\"id\")))\n",
    "      l1.append(i.get(\"uname\"))\n",
    "      l2.append(i.get(\"emailid\"))\n",
    "      l3.append(i.get(\"mobile\"))\n",
    "print(\"max id:\",max(l))   \n",
    "print(\"min id:\",min(l))\n",
    "print(\"average id:\",sum(l)/len(l))\n",
    "for i in l3:\n",
    "    b=l3.count(l3)\n",
    "l8=[]\n",
    "print(\"repeated mobile no.\",b)\n",
    "co=0\n",
    "m=0\n",
    "for i in range(0,len(l4),9):\n",
    "    c=l4[0+i:9+i]\n",
    "    d=c.count(\"\")\n",
    "    l8.append(d)\n",
    "    co=co+1\n",
    "    print(co,\"row null value:\",d)\n",
    "for i in range(0,len(l8)):\n",
    "    if l8[i]>m:\n",
    "        lk+=1\n",
    "        m=l8[i]\n",
    "        lk=i+1\n",
    "print(\"repeated mobile mobile no:\",b)    \n",
    "print(\"max null record rows\",lk)\n"
   ]
  }
 ],
 "metadata": {
  "kernelspec": {
   "display_name": "Python 3 (ipykernel)",
   "language": "python",
   "name": "python3"
  },
  "language_info": {
   "codemirror_mode": {
    "name": "ipython",
    "version": 3
   },
   "file_extension": ".py",
   "mimetype": "text/x-python",
   "name": "python",
   "nbconvert_exporter": "python",
   "pygments_lexer": "ipython3",
   "version": "3.9.6"
  }
 },
 "nbformat": 4,
 "nbformat_minor": 5
}
