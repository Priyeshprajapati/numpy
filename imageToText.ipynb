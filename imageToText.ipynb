{
 "cells": [
  {
   "cell_type": "code",
   "execution_count": null,
   "id": "420214b3-dcad-4255-b88e-dd917ce9ab99",
   "metadata": {},
   "outputs": [
    {
     "name": "stdout",
     "output_type": "stream",
     "text": [
      "<PIL.PngImagePlugin.PngImageFile image mode=RGBA size=335x519 at 0x15BAFDDFE20>\n",
      "Lon£MIl>suM\n",
      "LOREM IPSUM IS NOT SIMPLV\n",
      "\n",
      " \n",
      "\n",
      " \n",
      "\n",
      "Slmply dummy 2.99\n",
      "2: spetimen back «.30\n",
      "3: dummytexl 17.0\n",
      "4: lpsum passages 5.99\n",
      "5: typesetting I .2\n",
      "6: manyvarlaliuns 5.10\n",
      "7: popular belief 10.0\n",
      "a: Latin literature 4.99\n",
      "biscuunt 0.00\n",
      "Total 49.57\n",
      "Bank Card\n",
      "\n",
      "  \n",
      "\n",
      "Thank yuu for shopping!\n",
      "\n",
      "\n",
      "200\n"
     ]
    }
   ],
   "source": [
    "import pytesseract      \n",
    "from PIL import Image   \n",
    "import os\n",
    "from gtts import gTTS  \n",
    "import pyttsx3           \n",
    "#import Translate\n",
    "img = Image.open('p://image//si.png')     \n",
    "print(img)                          \n",
    "pytesseract.pytesseract.tesseract_cmd ='C://Users//DELL//AppData//Local//Tesseract-OCR//tesseract.exe'   \n",
    "result = pytesseract.image_to_string(img)   \n",
    "with open('abc.txt',mode ='w+') as file:     \n",
    "      file.write(result)\n",
    "      print(result)\n",
    "engine = pyttsx3.init()\n",
    "engine.say(result)\n",
    "engine.runAndWait()\n",
    "rate = engine.getProperty(\"rate\")\n",
    "print(rate) \n",
    "\n",
    "engine.setProperty(\"rate\", 300)\n",
    "engine.say(result)\n",
    "engine.runAndWait()\n",
    "engine.setProperty(\"rate\", 100)\n",
    "engine.say(result)\n",
    "engine.runAndWait()\n",
    "\n"
   ]
  },
  {
   "cell_type": "code",
   "execution_count": null,
   "id": "ecf7a5ce-e61c-4a8e-bc3f-37a098e07981",
   "metadata": {},
   "outputs": [],
   "source": []
  },
  {
   "cell_type": "code",
   "execution_count": null,
   "id": "bf9fd7e6-330e-4218-bfe1-61f281cd2f21",
   "metadata": {},
   "outputs": [],
   "source": []
  },
  {
   "cell_type": "code",
   "execution_count": null,
   "id": "cab81977-1a57-4b88-8262-9b56bcae97b5",
   "metadata": {},
   "outputs": [],
   "source": []
  }
 ],
 "metadata": {
  "kernelspec": {
   "display_name": "Python 3 (ipykernel)",
   "language": "python",
   "name": "python3"
  },
  "language_info": {
   "codemirror_mode": {
    "name": "ipython",
    "version": 3
   },
   "file_extension": ".py",
   "mimetype": "text/x-python",
   "name": "python",
   "nbconvert_exporter": "python",
   "pygments_lexer": "ipython3",
   "version": "3.9.6"
  }
 },
 "nbformat": 4,
 "nbformat_minor": 5
}
