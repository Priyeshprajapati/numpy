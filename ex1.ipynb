{
 "cells": [
  {
   "cell_type": "code",
   "execution_count": 4,
   "id": "ddc597de",
   "metadata": {},
   "outputs": [
    {
     "name": "stdout",
     "output_type": "stream",
     "text": [
      "max element is:- 111\n"
     ]
    }
   ],
   "source": [
    "#find max element in numpy array\n",
    "import numpy as np\n",
    "m=0\n",
    "ar=np.array([5,6,4,81,111,7])\n",
    "for i in ar:\n",
    "    if m<i:\n",
    "        m=i\n",
    "print(\"max element is:-\",m)\n",
    "    "
   ]
  },
  {
   "cell_type": "code",
   "execution_count": 12,
   "id": "bc9aebc8",
   "metadata": {},
   "outputs": [
    {
     "name": "stdout",
     "output_type": "stream",
     "text": [
      "[ 2  5  6  8  9 32 45 62 95]\n"
     ]
    }
   ],
   "source": [
    "#WAP to sort the elements of the NumPy array?\n",
    "import numpy as np\n",
    "ar=np.array([5,9,6,2,8,95,62,32,45])\n",
    "for i in range(0,len(ar)):\n",
    "    for j in range(i+1,len(ar)):\n",
    "        if ar[i]>ar[j]:\n",
    "            ar[i],ar[j]=ar[j],ar[i]\n",
    "print(ar)"
   ]
  },
  {
   "cell_type": "code",
   "execution_count": 15,
   "id": "ba5d4549",
   "metadata": {},
   "outputs": [
    {
     "name": "stdout",
     "output_type": "stream",
     "text": [
      "[1 9 6 5 8 4]\n",
      "[6 3 2 8 5 7 4]\n"
     ]
    }
   ],
   "source": [
    "#WAP to split one array into two different subarrays?\n",
    "import numpy as np\n",
    "ar=np.array([1,9,6,5,8,4,6,3,2,8,5,7,4])\n",
    "a=ar[0:int(len(ar)/2)]\n",
    "b=ar[int(len(ar)/2):len(ar)]\n",
    "print(a)\n",
    "print(b)\n"
   ]
  },
  {
   "cell_type": "code",
   "execution_count": 24,
   "id": "9f51d802",
   "metadata": {},
   "outputs": [
    {
     "name": "stdout",
     "output_type": "stream",
     "text": [
      "[ 1  7  3  9  3  5  6  7  4 65  4 32  5  6  7]\n"
     ]
    }
   ],
   "source": [
    "#WAP to merge two NumPy arrays into one array\n",
    "import numpy as np\n",
    "ar1=np.array([1,7,3,9,3,5,6,7])\n",
    "ar2=np.array([4,65,4,32,5,6,7])\n",
    "ar3=np.concatenate((ar1,ar2))\n",
    "print(ar3)"
   ]
  },
  {
   "cell_type": "code",
   "execution_count": 30,
   "id": "256e33c0",
   "metadata": {},
   "outputs": [
    {
     "name": "stdout",
     "output_type": "stream",
     "text": [
      "3\n",
      "7\n",
      "5\n",
      "2\n"
     ]
    }
   ],
   "source": [
    "#WAP to display prime elements in Numpy array\n",
    "import numpy as np\n",
    "ar=np.array([4,9,6,3,7,8,5,1,2])\n",
    "for i in range(0,len(ar)):\n",
    "    if ar[i]>=2:\n",
    "        for j in range(2,ar[i]):\n",
    "            if (ar[i]%j)==0:\n",
    "                break\n",
    "        else:\n",
    "            print(ar[i])"
   ]
  }
 ],
 "metadata": {
  "kernelspec": {
   "display_name": "Python 3 (ipykernel)",
   "language": "python",
   "name": "python3"
  },
  "language_info": {
   "codemirror_mode": {
    "name": "ipython",
    "version": 3
   },
   "file_extension": ".py",
   "mimetype": "text/x-python",
   "name": "python",
   "nbconvert_exporter": "python",
   "pygments_lexer": "ipython3",
   "version": "3.9.6"
  }
 },
 "nbformat": 4,
 "nbformat_minor": 5
}
